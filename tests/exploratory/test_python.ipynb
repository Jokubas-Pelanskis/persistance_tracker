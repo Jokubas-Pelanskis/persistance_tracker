{
 "cells": [
  {
   "cell_type": "code",
   "execution_count": 1,
   "metadata": {},
   "outputs": [],
   "source": [
    "import graphrlib"
   ]
  },
  {
   "cell_type": "code",
   "execution_count": 2,
   "metadata": {},
   "outputs": [],
   "source": [
    "# get the whole database\n",
    "db = graphrlib.JsonStorage(\".\")"
   ]
  },
  {
   "cell_type": "code",
   "execution_count": 3,
   "metadata": {},
   "outputs": [
    {
     "data": {
      "text/plain": [
       "{'calculation_nodes': {'1748710448967812658first_double': {'git_hash': '',\n",
       "   'calculation': {'inputs': ['1748710448977016369file1.yaml'],\n",
       "    'outputs': ['1748710448982662404file2.yaml'],\n",
       "    'program': 'python3 scripts.py double --input $input_0 --output $output_0'}},\n",
       "  '1748710886366981094second_double': {'git_hash': '',\n",
       "   'calculation': {'inputs': ['1748710448982662404file2.yaml'],\n",
       "    'outputs': ['1748710886382139350file3.yaml'],\n",
       "    'program': 'python3 scripts.py double --input $input_0 --output $output_0'}},\n",
       "  '1748720258543045714first_double': {'git_hash': '',\n",
       "   'calculation': {'inputs': ['1748720258542037957file1.yaml'],\n",
       "    'outputs': ['1748720258543025168file2.yaml'],\n",
       "    'program': 'python3 scripts.py double --input $input_0 --output $output_0'}},\n",
       "  '1748720258543053294second_double': {'git_hash': '',\n",
       "   'calculation': {'inputs': ['1748720258543025168file2.yaml'],\n",
       "    'outputs': ['1748720258543037336file3.yaml'],\n",
       "    'program': 'python3 scripts.py double --input $input_0 --output $output_0'}},\n",
       "  '1748720258545523722first_double': {'git_hash': '',\n",
       "   'calculation': {'inputs': ['1748720258545295977file1.yaml'],\n",
       "    'outputs': ['1748720258545504977file2.yaml'],\n",
       "    'program': 'python3 scripts.py double --input $input_0 --output $output_0'}},\n",
       "  '1748720258545530677second_double': {'git_hash': '',\n",
       "   'calculation': {'inputs': ['1748720258545504977file2.yaml'],\n",
       "    'outputs': ['1748720258545515656file3.yaml'],\n",
       "    'program': 'python3 scripts.py double --input $input_0 --output $output_0'}},\n",
       "  '1748720258547246120first_double': {'git_hash': '',\n",
       "   'calculation': {'inputs': ['1748720258547051616file1.yaml'],\n",
       "    'outputs': ['1748720258547230444file2.yaml'],\n",
       "    'program': 'python3 scripts.py double --input $input_0 --output $output_0'}},\n",
       "  '1748720258547252894second_double': {'git_hash': '',\n",
       "   'calculation': {'inputs': ['1748720258547230444file2.yaml'],\n",
       "    'outputs': ['1748720258547239167file3.yaml'],\n",
       "    'program': 'python3 scripts.py double --input $input_0 --output $output_0'}},\n",
       "  '1748720258548927062first_double': {'git_hash': '',\n",
       "   'calculation': {'inputs': ['1748720258548733242file1.yaml'],\n",
       "    'outputs': ['1748720258548911530file2.yaml'],\n",
       "    'program': 'python3 scripts.py double --input $input_0 --output $output_0'}},\n",
       "  '1748720258548933737second_double': {'git_hash': '',\n",
       "   'calculation': {'inputs': ['1748720258548911530file2.yaml'],\n",
       "    'outputs': ['1748720258548920011file3.yaml'],\n",
       "    'program': 'python3 scripts.py double --input $input_0 --output $output_0'}}}}"
      ]
     },
     "execution_count": 3,
     "metadata": {},
     "output_type": "execute_result"
    }
   ],
   "source": [
    "db.to_dict()"
   ]
  },
  {
   "cell_type": "code",
   "execution_count": 4,
   "metadata": {},
   "outputs": [],
   "source": [
    "# Given a node select it's future nodes\n",
    "copy_pipe = db.select_future(\"1748710448977016369file1.yaml\")"
   ]
  },
  {
   "cell_type": "code",
   "execution_count": 15,
   "metadata": {},
   "outputs": [],
   "source": [
    "# Add more calculations to the database\n",
    "for i in range(4):\n",
    "    c = copy_pipe.copy([])\n",
    "    db.add(c)\n"
   ]
  },
  {
   "cell_type": "code",
   "execution_count": 6,
   "metadata": {},
   "outputs": [],
   "source": [
    "# Write the new databsae\n",
    "# db.write(\".\")"
   ]
  },
  {
   "cell_type": "code",
   "execution_count": null,
   "metadata": {},
   "outputs": [
    {
     "name": "stdout",
     "output_type": "stream",
     "text": [
      "python3 scripts.py double --input data/1748710448977016369file1.yaml --output data/1748710448982662404file2.yaml\n",
      "python3 scripts.py double --input data/1748720258542037957file1.yaml --output data/1748720258543025168file2.yaml\n",
      "python3 scripts.py double --input data/1748720258545295977file1.yaml --output data/1748720258545504977file2.yaml\n",
      "python3 scripts.py double --input data/1748720258547051616file1.yaml --output data/1748720258547230444file2.yaml\n",
      "python3 scripts.py double --input data/1748720258548733242file1.yaml --output data/1748720258548911530file2.yaml\n",
      "python3 scripts.py double --input data/1748766412639559419file1.yaml --output data/1748766412639804808file2.yaml\n",
      "python3 scripts.py double --input data/1748766412641470047file1.yaml --output data/1748766412641651118file2.yaml\n",
      "python3 scripts.py double --input data/1748766412644305562file1.yaml --output data/1748766412644489367file2.yaml\n",
      "python3 scripts.py double --input data/1748766412646099206file1.yaml --output data/1748766412646280087file2.yaml\n",
      "python3 scripts.py double --input data/1748766563669277636file1.yaml --output data/1748766563669493212file2.yaml\n",
      "python3 scripts.py double --input data/1748766563671080280file1.yaml --output data/1748766563671274517file2.yaml\n",
      "python3 scripts.py double --input data/1748766563672770858file1.yaml --output data/1748766563672946584file2.yaml\n",
      "python3 scripts.py double --input data/1748766563674720595file1.yaml --output data/1748766563674910584file2.yaml\n",
      "python3 scripts.py double --input data/1748766568402671094file1.yaml --output data/1748766568402902005file2.yaml\n",
      "python3 scripts.py double --input data/1748766568404459304file1.yaml --output data/1748766568404635014file2.yaml\n",
      "python3 scripts.py double --input data/1748766568406141284file1.yaml --output data/1748766568406316427file2.yaml\n",
      "python3 scripts.py double --input data/1748766568408137503file1.yaml --output data/1748766568408324293file2.yaml\n",
      "python3 scripts.py double --input data/1748766580391105434file1.yaml --output data/1748766580391320244file2.yaml\n",
      "python3 scripts.py double --input data/1748766580392902402file1.yaml --output data/1748766580393083506file2.yaml\n",
      "python3 scripts.py double --input data/1748766580394584252file1.yaml --output data/1748766580394769296file2.yaml\n",
      "python3 scripts.py double --input data/1748766580396508881file1.yaml --output data/1748766580396691660file2.yaml\n"
     ]
    }
   ],
   "source": [
    "# Select nodes with similar name and then look through the history and select nodes with other name.\n",
    "\n",
    "## Select all files that have file 1 in them\n",
    "similar_nodes = db.get_similar(\"file1.yam\")\n",
    "\n",
    "## Go through each file, look it's history and find a file that has 'first_double in them'. Get a string object\n",
    "fs = []\n",
    "for sn in similar_nodes:\n",
    "    fs.append(db.select_future(sn).get_similar(\"first_double\")[0])\n",
    "\n",
    "# Gennerate command for each of those\n",
    "for f in fs:\n",
    "    print(db.command(f))\n"
   ]
  },
  {
   "cell_type": "code",
   "execution_count": null,
   "metadata": {},
   "outputs": [
    {
     "data": {
      "text/plain": [
       "['1748710448977016369file1.yaml',\n",
       " '1748720258542037957file1.yaml',\n",
       " '1748720258545295977file1.yaml',\n",
       " '1748720258547051616file1.yaml',\n",
       " '1748720258548733242file1.yaml',\n",
       " '1748766412639559419file1.yaml',\n",
       " '1748766412641470047file1.yaml',\n",
       " '1748766412644305562file1.yaml',\n",
       " '1748766412646099206file1.yaml',\n",
       " '1748766563669277636file1.yaml',\n",
       " '1748766563671080280file1.yaml',\n",
       " '1748766563672770858file1.yaml',\n",
       " '1748766563674720595file1.yaml',\n",
       " '1748766568402671094file1.yaml',\n",
       " '1748766568404459304file1.yaml',\n",
       " '1748766568406141284file1.yaml',\n",
       " '1748766568408137503file1.yaml',\n",
       " '1748766580391105434file1.yaml',\n",
       " '1748766580392902402file1.yaml',\n",
       " '1748766580394584252file1.yaml',\n",
       " '1748766580396508881file1.yaml']"
      ]
     },
     "execution_count": 20,
     "metadata": {},
     "output_type": "execute_result"
    }
   ],
   "source": [
    "# Get the commands for the node\n",
    "import pathlib\n",
    "import yaml\n",
    "for s in similar_nodes:\n",
    "\n",
    "    \n"
   ]
  },
  {
   "cell_type": "markdown",
   "metadata": {},
   "source": [
    "What do I want the package to achieve?\n",
    "- Copy calculations over multiple times\n",
    "- select data with a particular name\n",
    "- Look up the tree for specific kinds of data and match those."
   ]
  }
 ],
 "metadata": {
  "kernelspec": {
   "display_name": "phd",
   "language": "python",
   "name": "python3"
  },
  "language_info": {
   "codemirror_mode": {
    "name": "ipython",
    "version": 3
   },
   "file_extension": ".py",
   "mimetype": "text/x-python",
   "name": "python",
   "nbconvert_exporter": "python",
   "pygments_lexer": "ipython3",
   "version": "3.12.0"
  }
 },
 "nbformat": 4,
 "nbformat_minor": 2
}
