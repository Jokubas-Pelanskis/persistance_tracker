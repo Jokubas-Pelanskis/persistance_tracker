{
 "cells": [
  {
   "cell_type": "code",
   "execution_count": 1,
   "metadata": {},
   "outputs": [],
   "source": [
    "import graphrlib"
   ]
  },
  {
   "cell_type": "code",
   "execution_count": 2,
   "metadata": {},
   "outputs": [],
   "source": [
    "db = graphrlib.JsonStorage(\".\")"
   ]
  },
  {
   "cell_type": "code",
   "execution_count": 4,
   "metadata": {},
   "outputs": [
    {
     "data": {
      "text/plain": [
       "{'calculation_nodes': {'1748710448967812658first_double': {'git_hash': '',\n",
       "   'calculation': {'inputs': ['1748710448977016369file1.yaml'],\n",
       "    'outputs': ['1748710448982662404file2.yaml'],\n",
       "    'program': 'python3 scripts.py double --input $input_0 --output $output_0'}},\n",
       "  '1748710886366981094second_double': {'git_hash': '',\n",
       "   'calculation': {'inputs': ['1748710448982662404file2.yaml'],\n",
       "    'outputs': ['1748710886382139350file3.yaml'],\n",
       "    'program': 'python3 scripts.py double --input $input_0 --output $output_0'}}}}"
      ]
     },
     "execution_count": 4,
     "metadata": {},
     "output_type": "execute_result"
    }
   ],
   "source": [
    "db.to_dict()"
   ]
  },
  {
   "cell_type": "markdown",
   "metadata": {},
   "source": [
    "What do I want the package to achieve?\n",
    "- Copy calculations over multiple times\n",
    "- select data with a particular name\n",
    "- Look up the tree for specific kinds of data and match those."
   ]
  }
 ],
 "metadata": {
  "kernelspec": {
   "display_name": "phd",
   "language": "python",
   "name": "python3"
  },
  "language_info": {
   "codemirror_mode": {
    "name": "ipython",
    "version": 3
   },
   "file_extension": ".py",
   "mimetype": "text/x-python",
   "name": "python",
   "nbconvert_exporter": "python",
   "pygments_lexer": "ipython3",
   "version": "3.12.0"
  }
 },
 "nbformat": 4,
 "nbformat_minor": 2
}
